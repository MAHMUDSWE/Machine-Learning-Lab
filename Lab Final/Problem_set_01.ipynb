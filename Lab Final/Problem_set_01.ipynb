{
  "nbformat": 4,
  "nbformat_minor": 0,
  "metadata": {
    "colab": {
      "provenance": [],
      "toc_visible": true,
      "mount_file_id": "1lI9inEbO7GfEzFbfa5afpeBQNb8OHM_f",
      "authorship_tag": "ABX9TyOnccPZgxgXpNTAopoRmCMs",
      "include_colab_link": true
    },
    "kernelspec": {
      "name": "python3",
      "display_name": "Python 3"
    },
    "language_info": {
      "name": "python"
    }
  },
  "cells": [
    {
      "cell_type": "markdown",
      "metadata": {
        "id": "view-in-github",
        "colab_type": "text"
      },
      "source": [
        "<a href=\"https://colab.research.google.com/github/MAHMUDSWE/ML/blob/main/Problem_set_01.ipynb\" target=\"_parent\"><img src=\"https://colab.research.google.com/assets/colab-badge.svg\" alt=\"Open In Colab\"/></a>"
      ]
    },
    {
      "cell_type": "markdown",
      "source": [
        "#Import Libraries"
      ],
      "metadata": {
        "id": "fzEbZ6H8Jptg"
      }
    },
    {
      "cell_type": "code",
      "execution_count": 49,
      "metadata": {
        "id": "WVg72cf9JonO"
      },
      "outputs": [],
      "source": [
        "import tensorflow as tf\n",
        "from tensorflow.keras import layers, models\n",
        "from tensorflow.keras.preprocessing.image import ImageDataGenerator\n",
        "import matplotlib.pyplot as plt\n",
        "from sklearn.metrics import classification_report, confusion_matrix"
      ]
    },
    {
      "cell_type": "markdown",
      "source": [
        "#Mounting Google Drive\n"
      ],
      "metadata": {
        "id": "Q6CcmwPDWwHz"
      }
    },
    {
      "cell_type": "code",
      "source": [
        "from google.colab import drive\n",
        "drive.mount('/content/drive', force_remount=True)"
      ],
      "metadata": {
        "colab": {
          "base_uri": "https://localhost:8080/"
        },
        "id": "ySk0V1l1W0R7",
        "outputId": "61bb6ce3-e498-402b-9ec5-e2d166f8242e"
      },
      "execution_count": 50,
      "outputs": [
        {
          "output_type": "stream",
          "name": "stdout",
          "text": [
            "Mounted at /content/drive\n"
          ]
        }
      ]
    },
    {
      "cell_type": "markdown",
      "source": [
        "#Load Dataset"
      ],
      "metadata": {
        "id": "gcoD3FlpW2xA"
      }
    },
    {
      "cell_type": "code",
      "source": [
        "train_path = '/content/drive/MyDrive/Project/ML/problem01/train'\n",
        "val_path = '/content/drive/MyDrive/Project/ML/problem01/val'\n",
        "test_path = '/content/drive/MyDrive/Project/ML/problem01/test'"
      ],
      "metadata": {
        "id": "nJIdh85tW7yY"
      },
      "execution_count": 51,
      "outputs": []
    },
    {
      "cell_type": "code",
      "source": [
        "#set up data generators with data augmentation for training\n",
        "train_datagen = ImageDataGenerator(\n",
        "    rescale=1./255,\n",
        "    shear_range=0.2,\n",
        "    zoom_range=0.2,\n",
        "    horizontal_flip=True\n",
        ")\n",
        "val_datagen = ImageDataGenerator(rescale=1./255)\n",
        "#set batch size and image dimensions\n",
        "batch_size = 32\n",
        "img_height, img_width = 150, 150"
      ],
      "metadata": {
        "id": "n2ht_A01X6oM"
      },
      "execution_count": 52,
      "outputs": []
    },
    {
      "cell_type": "markdown",
      "source": [
        "#Generate batches of augmented data"
      ],
      "metadata": {
        "id": "3jGNgzBvb9YP"
      }
    },
    {
      "cell_type": "code",
      "source": [
        "train_generator = train_datagen.flow_from_directory(\n",
        "    train_path,\n",
        "    target_size=(img_height, img_width),\n",
        "    batch_size=batch_size,\n",
        "    class_mode='binary'\n",
        ")\n",
        "\n",
        "val_generator = val_datagen.flow_from_directory(\n",
        "    val_path,\n",
        "    target_size=(img_height, img_width),\n",
        "    batch_size=batch_size,\n",
        "    class_mode='binary'\n",
        ")"
      ],
      "metadata": {
        "colab": {
          "base_uri": "https://localhost:8080/"
        },
        "id": "5Fo5LbVIYDVi",
        "outputId": "fe7ff68b-b483-4e57-ff3b-51b45feb4a0d"
      },
      "execution_count": 54,
      "outputs": [
        {
          "output_type": "stream",
          "name": "stdout",
          "text": [
            "Found 5216 images belonging to 2 classes.\n",
            "Found 16 images belonging to 2 classes.\n"
          ]
        }
      ]
    },
    {
      "cell_type": "markdown",
      "source": [
        "# Define and train the model"
      ],
      "metadata": {
        "id": "IuVX4qQ4vbKo"
      }
    },
    {
      "cell_type": "code",
      "source": [
        "model = models.Sequential()\n",
        "model.add(layers.Conv2D(32, (3, 3), activation='relu', input_shape=(img_height, img_width, 3)))\n",
        "model.add(layers.MaxPooling2D((2, 2)))\n",
        "model.add(layers.Conv2D(64, (3, 3), activation='relu'))\n",
        "model.add(layers.MaxPooling2D((2, 2)))\n",
        "model.add(layers.Conv2D(128, (3, 3), activation='relu'))\n",
        "model.add(layers.MaxPooling2D((2, 2)))\n",
        "model.add(layers.Flatten())\n",
        "model.add(layers.Dense(128, activation='relu'))\n",
        "model.add(layers.Dense(1, activation='sigmoid'))\n",
        "\n",
        "model.compile(optimizer='adam', loss='binary_crossentropy', metrics=['accuracy'])"
      ],
      "metadata": {
        "id": "z6jQRMS3YNyS"
      },
      "execution_count": 55,
      "outputs": []
    },
    {
      "cell_type": "markdown",
      "source": [
        "# Checking the sample and batch size for tranning purpose"
      ],
      "metadata": {
        "id": "LwJSft9qcLPB"
      }
    },
    {
      "cell_type": "code",
      "source": [
        "print(\"Number of samples in the training set:\", train_generator.samples)\n",
        "print(\"Number of samples in the training set:\", val_generator.samples)\n",
        "print(\"Batch size:\", batch_size)"
      ],
      "metadata": {
        "colab": {
          "base_uri": "https://localhost:8080/"
        },
        "id": "VLHUQd0xYajF",
        "outputId": "05c8bcf0-4f51-449b-af72-3fce64ca8590"
      },
      "execution_count": 57,
      "outputs": [
        {
          "output_type": "stream",
          "name": "stdout",
          "text": [
            "Number of samples in the training set: 5216\n",
            "Number of samples in the training set: 16\n",
            "Batch size: 32\n"
          ]
        }
      ]
    },
    {
      "cell_type": "markdown",
      "source": [
        "# Train model"
      ],
      "metadata": {
        "id": "sJVhvdxZvSGk"
      }
    },
    {
      "cell_type": "code",
      "source": [
        "history = model.fit(\n",
        "    train_generator,\n",
        "    steps_per_epoch=len(train_generator),\n",
        "    validation_data=val_generator,\n",
        "    validation_steps=len(val_generator),\n",
        "    epochs=10\n",
        ")"
      ],
      "metadata": {
        "colab": {
          "base_uri": "https://localhost:8080/"
        },
        "id": "TMBa9U2JYfnz",
        "outputId": "65f8496f-6a36-46f0-caac-c27f27ed5768"
      },
      "execution_count": 58,
      "outputs": [
        {
          "output_type": "stream",
          "name": "stdout",
          "text": [
            "Epoch 1/10\n",
            "163/163 [==============================] - 1111s 6s/step - loss: 0.3463 - accuracy: 0.8522 - val_loss: 0.5563 - val_accuracy: 0.8125\n",
            "Epoch 2/10\n",
            "163/163 [==============================] - 403s 2s/step - loss: 0.2565 - accuracy: 0.8947 - val_loss: 0.5549 - val_accuracy: 0.8750\n",
            "Epoch 3/10\n",
            "163/163 [==============================] - 381s 2s/step - loss: 0.1877 - accuracy: 0.9237 - val_loss: 0.7203 - val_accuracy: 0.6875\n",
            "Epoch 4/10\n",
            "163/163 [==============================] - 385s 2s/step - loss: 0.1662 - accuracy: 0.9375 - val_loss: 0.4672 - val_accuracy: 0.7500\n",
            "Epoch 5/10\n",
            "163/163 [==============================] - 385s 2s/step - loss: 0.1453 - accuracy: 0.9427 - val_loss: 1.0835 - val_accuracy: 0.6250\n",
            "Epoch 6/10\n",
            "163/163 [==============================] - 385s 2s/step - loss: 0.1352 - accuracy: 0.9498 - val_loss: 0.6970 - val_accuracy: 0.7500\n",
            "Epoch 7/10\n",
            "163/163 [==============================] - 383s 2s/step - loss: 0.1395 - accuracy: 0.9490 - val_loss: 0.9763 - val_accuracy: 0.6250\n",
            "Epoch 8/10\n",
            "163/163 [==============================] - 369s 2s/step - loss: 0.1291 - accuracy: 0.9517 - val_loss: 0.5755 - val_accuracy: 0.8125\n",
            "Epoch 9/10\n",
            "163/163 [==============================] - 371s 2s/step - loss: 0.1201 - accuracy: 0.9557 - val_loss: 0.6685 - val_accuracy: 0.6875\n",
            "Epoch 10/10\n",
            "163/163 [==============================] - 384s 2s/step - loss: 0.1285 - accuracy: 0.9528 - val_loss: 0.2323 - val_accuracy: 0.8750\n"
          ]
        }
      ]
    },
    {
      "cell_type": "markdown",
      "source": [
        "# Generate test data"
      ],
      "metadata": {
        "id": "xbN7KzFLvkrD"
      }
    },
    {
      "cell_type": "code",
      "source": [
        "test_datagen = ImageDataGenerator(rescale=1./255)\n",
        "test_generator = test_datagen.flow_from_directory(\n",
        "    test_path,\n",
        "    target_size=(img_height, img_width),\n",
        "    batch_size=batch_size,\n",
        "    class_mode='binary'\n",
        ")\n"
      ],
      "metadata": {
        "colab": {
          "base_uri": "https://localhost:8080/"
        },
        "id": "j60V_eQuYisc",
        "outputId": "016cf07b-c4d6-4604-b0b1-d07d3e3cd38a"
      },
      "execution_count": 59,
      "outputs": [
        {
          "output_type": "stream",
          "name": "stdout",
          "text": [
            "Found 624 images belonging to 2 classes.\n"
          ]
        }
      ]
    },
    {
      "cell_type": "markdown",
      "source": [
        "# Evaluate and print the accuracy of the model on test data"
      ],
      "metadata": {
        "id": "oWSZzsiIvur0"
      }
    },
    {
      "cell_type": "code",
      "source": [
        "test_loss, test_acc = model.evaluate(test_generator, steps=len(test_generator))\n",
        "\n",
        "print(\"test data accuracy: {:.2f}%\".format(test_acc * 100))"
      ],
      "metadata": {
        "colab": {
          "base_uri": "https://localhost:8080/"
        },
        "id": "0vVCZeyBYlAq",
        "outputId": "888212c3-bf5d-416e-a5ba-07216d17712c"
      },
      "execution_count": 64,
      "outputs": [
        {
          "output_type": "stream",
          "name": "stdout",
          "text": [
            "20/20 [==============================] - 18s 888ms/step - loss: 0.3382 - accuracy: 0.8862\n",
            "test data accuracy: 88.62%\n"
          ]
        }
      ]
    },
    {
      "cell_type": "markdown",
      "source": [
        "# Prediction on test data"
      ],
      "metadata": {
        "id": "aXWafgeEwbhw"
      }
    },
    {
      "cell_type": "code",
      "source": [
        "predictions = model.predict(test_generator, steps=len(test_generator))\n",
        "predicted_classes = (predictions > 0.5).astype(int)"
      ],
      "metadata": {
        "id": "EJkuWeS4wYEw"
      },
      "execution_count": null,
      "outputs": []
    },
    {
      "cell_type": "markdown",
      "source": [
        "# Printing classification report and confusion matrix"
      ],
      "metadata": {
        "id": "tQHjBcnswfZu"
      }
    },
    {
      "cell_type": "code",
      "source": [
        "print(\"Classification Report:\\n\", classification_report(test_generator.classes, predicted_classes))\n",
        "print(\"Confusion Matrix:\\n\", confusion_matrix(test_generator.classes, predicted_classes))"
      ],
      "metadata": {
        "colab": {
          "base_uri": "https://localhost:8080/"
        },
        "id": "y8pQd_EmYnoB",
        "outputId": "7d3009dc-32b9-4b59-a496-04494931fcf7"
      },
      "execution_count": 63,
      "outputs": [
        {
          "output_type": "stream",
          "name": "stdout",
          "text": [
            "20/20 [==============================] - 30s 1s/step\n",
            "Classification Report:\n",
            "               precision    recall  f1-score   support\n",
            "\n",
            "           0       0.39      0.31      0.35       234\n",
            "           1       0.63      0.70      0.66       390\n",
            "\n",
            "    accuracy                           0.56       624\n",
            "   macro avg       0.51      0.51      0.50       624\n",
            "weighted avg       0.54      0.56      0.54       624\n",
            "\n",
            "Confusion Matrix:\n",
            " [[ 73 161]\n",
            " [116 274]]\n"
          ]
        }
      ]
    },
    {
      "cell_type": "code",
      "source": [
        "plt.plot(history.history['accuracy'], label='Training Accuracy')\n",
        "plt.plot(history.history['val_accuracy'], label='Validation Accuracy')\n",
        "plt.xlabel('Epochs')\n",
        "plt.ylabel('Accuracy')\n",
        "plt.title('Training and Validation Accuracy Over Epochs')\n",
        "plt.legend()\n",
        "plt.show()"
      ],
      "metadata": {
        "colab": {
          "base_uri": "https://localhost:8080/",
          "height": 472
        },
        "id": "Kr7MgG-BYqCi",
        "outputId": "dc3fcd57-4285-46d9-fc26-d136066b81b4"
      },
      "execution_count": 62,
      "outputs": [
        {
          "data": {
            "image/png": "[encoded data removed]",
            "text/plain": [
              "<Figure size 640x480 with 1 Axes>"
            ]
          },
          "metadata": {},
          "output_type": "display_data"
        }
      ]
    }
  ]
}