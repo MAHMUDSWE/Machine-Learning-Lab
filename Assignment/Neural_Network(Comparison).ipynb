{
  "nbformat": 4,
  "nbformat_minor": 0,
  "metadata": {
    "colab": {
      "provenance": [],
      "toc_visible": true,
      "include_colab_link": true
    },
    "kernelspec": {
      "name": "python3",
      "display_name": "Python 3"
    },
    "language_info": {
      "name": "python"
    }
  },
  "cells": [
    {
      "cell_type": "markdown",
      "metadata": {
        "id": "view-in-github",
        "colab_type": "text"
      },
      "source": [
        "<a href=\"https://colab.research.google.com/github/MAHMUDSWE/Machine-Learning-Lab2/blob/main/Neural_Network(Comparison).ipynb\" target=\"_parent\"><img src=\"https://colab.research.google.com/assets/colab-badge.svg\" alt=\"Open In Colab\"/></a>"
      ]
    },
    {
      "cell_type": "code",
      "execution_count": 20,
      "metadata": {
        "colab": {
          "base_uri": "https://localhost:8080/"
        },
        "id": "T9kxtND-pxOf",
        "outputId": "1558963e-0569-48fa-9aa8-ae88410a7ad8"
      },
      "outputs": [
        {
          "output_type": "stream",
          "name": "stdout",
          "text": [
            "Mounted at /content/drive\n"
          ]
        }
      ],
      "source": [
        "from numpy import loadtxt\n",
        "from sklearn.model_selection import train_test_split\n",
        "from sklearn.preprocessing import StandardScaler\n",
        "import keras\n",
        "from keras.models import Sequential\n",
        "from keras.layers import Dense\n",
        "from keras.layers import LeakyReLU,PReLU,ELU\n",
        "from keras.layers import Dropout\n",
        "import pandas as pd\n",
        "import matplotlib.pyplot as plt\n",
        "import csv\n",
        "import numpy as np\n",
        "import seaborn as sns\n",
        "from google.colab import drive\n",
        "drive.mount('/content/drive', force_remount=True)"
      ]
    },
    {
      "cell_type": "markdown",
      "source": [
        "Input Variables:\n",
        "\n",
        "\n",
        "---\n",
        "\n",
        "\n",
        "1. Number of times pregnant\n",
        "\n",
        "2. Plasma glucose concentration at 2 hours in an oral glucose tolerance test\n",
        "\n",
        "3. Diastolic blood pressure (mm Hg)\n",
        "\n",
        "4. Triceps skin fold thickness (mm)\n",
        "\n",
        "5. 2-hour serum insulin (mu U/ml)\n",
        "\n",
        "6. Body mass index (weight in kg/(height in m)^2)\n",
        "\n",
        "7. Diabetes pedigree function\n",
        "\n",
        "8. Age (years)\n",
        "\n",
        "\n",
        "Output Variable:\n",
        "\n",
        "\n",
        "---\n",
        "\n",
        "Class variable (0 or 1)"
      ],
      "metadata": {
        "id": "uMr6i7ufsSSO"
      }
    },
    {
      "cell_type": "markdown",
      "source": [
        "# Load Dataset"
      ],
      "metadata": {
        "id": "NFh7o8DHUDC5"
      }
    },
    {
      "cell_type": "code",
      "source": [
        "data_path = '/content/drive/MyDrive/Project/ML/nn_data.txt'\n",
        "dataset = pd.read_csv(data_path, header=None)\n",
        "dataset.shape\n",
        "print(dataset.head())"
      ],
      "metadata": {
        "colab": {
          "base_uri": "https://localhost:8080/"
        },
        "id": "EG3X9ml4qFZ0",
        "outputId": "ee17d281-2946-44f4-99e1-a75fc10c6741"
      },
      "execution_count": 21,
      "outputs": [
        {
          "output_type": "stream",
          "name": "stdout",
          "text": [
            "   0    1   2   3    4     5      6   7  8\n",
            "0  6  148  72  35    0  33.6  0.627  50  1\n",
            "1  1   85  66  29    0  26.6  0.351  31  0\n",
            "2  8  183  64   0    0  23.3  0.672  32  1\n",
            "3  1   89  66  23   94  28.1  0.167  21  0\n",
            "4  0  137  40  35  168  43.1  2.288  33  1\n"
          ]
        }
      ]
    },
    {
      "cell_type": "markdown",
      "source": [
        "# Split into input and output variables"
      ],
      "metadata": {
        "id": "f-YCc2RmVXKH"
      }
    },
    {
      "cell_type": "code",
      "source": [
        "X = dataset.iloc[:,0:8]\n",
        "y = dataset.iloc[:,8]"
      ],
      "metadata": {
        "id": "947sgxJnqLds"
      },
      "execution_count": 22,
      "outputs": []
    },
    {
      "cell_type": "code",
      "source": [
        "X.head()"
      ],
      "metadata": {
        "id": "CBo5P7Ehs-dp",
        "colab": {
          "base_uri": "https://localhost:8080/",
          "height": 206
        },
        "outputId": "494b4c86-9a63-4cfe-90c6-79fdb2d84e4d"
      },
      "execution_count": 23,
      "outputs": [
        {
          "output_type": "execute_result",
          "data": {
            "text/plain": [
              "   0    1   2   3    4     5      6   7\n",
              "0  6  148  72  35    0  33.6  0.627  50\n",
              "1  1   85  66  29    0  26.6  0.351  31\n",
              "2  8  183  64   0    0  23.3  0.672  32\n",
              "3  1   89  66  23   94  28.1  0.167  21\n",
              "4  0  137  40  35  168  43.1  2.288  33"
            ],
            "text/html": [
              "\n",
              "  <div id=\"df-22a3a91a-c8ba-4e88-98c2-8f177248c444\" class=\"colab-df-container\">\n",
              "    <div>\n",
              "<style scoped>\n",
              "    .dataframe tbody tr th:only-of-type {\n",
              "        vertical-align: middle;\n",
              "    }\n",
              "\n",
              "    .dataframe tbody tr th {\n",
              "        vertical-align: top;\n",
              "    }\n",
              "\n",
              "    .dataframe thead th {\n",
              "        text-align: right;\n",
              "    }\n",
              "</style>\n",
              "<table border=\"1\" class=\"dataframe\">\n",
              "  <thead>\n",
              "    <tr style=\"text-align: right;\">\n",
              "      <th></th>\n",
              "      <th>0</th>\n",
              "      <th>1</th>\n",
              "      <th>2</th>\n",
              "      <th>3</th>\n",
              "      <th>4</th>\n",
              "      <th>5</th>\n",
              "      <th>6</th>\n",
              "      <th>7</th>\n",
              "    </tr>\n",
              "  </thead>\n",
              "  <tbody>\n",
              "    <tr>\n",
              "      <th>0</th>\n",
              "      <td>6</td>\n",
              "      <td>148</td>\n",
              "      <td>72</td>\n",
              "      <td>35</td>\n",
              "      <td>0</td>\n",
              "      <td>33.6</td>\n",
              "      <td>0.627</td>\n",
              "      <td>50</td>\n",
              "    </tr>\n",
              "    <tr>\n",
              "      <th>1</th>\n",
              "      <td>1</td>\n",
              "      <td>85</td>\n",
              "      <td>66</td>\n",
              "      <td>29</td>\n",
              "      <td>0</td>\n",
              "      <td>26.6</td>\n",
              "      <td>0.351</td>\n",
              "      <td>31</td>\n",
              "    </tr>\n",
              "    <tr>\n",
              "      <th>2</th>\n",
              "      <td>8</td>\n",
              "      <td>183</td>\n",
              "      <td>64</td>\n",
              "      <td>0</td>\n",
              "      <td>0</td>\n",
              "      <td>23.3</td>\n",
              "      <td>0.672</td>\n",
              "      <td>32</td>\n",
              "    </tr>\n",
              "    <tr>\n",
              "      <th>3</th>\n",
              "      <td>1</td>\n",
              "      <td>89</td>\n",
              "      <td>66</td>\n",
              "      <td>23</td>\n",
              "      <td>94</td>\n",
              "      <td>28.1</td>\n",
              "      <td>0.167</td>\n",
              "      <td>21</td>\n",
              "    </tr>\n",
              "    <tr>\n",
              "      <th>4</th>\n",
              "      <td>0</td>\n",
              "      <td>137</td>\n",
              "      <td>40</td>\n",
              "      <td>35</td>\n",
              "      <td>168</td>\n",
              "      <td>43.1</td>\n",
              "      <td>2.288</td>\n",
              "      <td>33</td>\n",
              "    </tr>\n",
              "  </tbody>\n",
              "</table>\n",
              "</div>\n",
              "    <div class=\"colab-df-buttons\">\n",
              "\n",
              "  <div class=\"colab-df-container\">\n",
              "    <button class=\"colab-df-convert\" onclick=\"convertToInteractive('df-22a3a91a-c8ba-4e88-98c2-8f177248c444')\"\n",
              "            title=\"Convert this dataframe to an interactive table.\"\n",
              "            style=\"display:none;\">\n",
              "\n",
              "  <svg xmlns=\"http://www.w3.org/2000/svg\" height=\"24px\" viewBox=\"0 -960 960 960\">\n",
              "    <path d=\"M120-120v-720h720v720H120Zm60-500h600v-160H180v160Zm220 220h160v-160H400v160Zm0 220h160v-160H400v160ZM180-400h160v-160H180v160Zm440 0h160v-160H620v160ZM180-180h160v-160H180v160Zm440 0h160v-160H620v160Z\"/>\n",
              "  </svg>\n",
              "    </button>\n",
              "\n",
              "  <style>\n",
              "    .colab-df-container {\n",
              "      display:flex;\n",
              "      gap: 12px;\n",
              "    }\n",
              "\n",
              "    .colab-df-convert {\n",
              "      background-color: #E8F0FE;\n",
              "      border: none;\n",
              "      border-radius: 50%;\n",
              "      cursor: pointer;\n",
              "      display: none;\n",
              "      fill: #1967D2;\n",
              "      height: 32px;\n",
              "      padding: 0 0 0 0;\n",
              "      width: 32px;\n",
              "    }\n",
              "\n",
              "    .colab-df-convert:hover {\n",
              "      background-color: #E2EBFA;\n",
              "      box-shadow: 0px 1px 2px rgba(60, 64, 67, 0.3), 0px 1px 3px 1px rgba(60, 64, 67, 0.15);\n",
              "      fill: #174EA6;\n",
              "    }\n",
              "\n",
              "    .colab-df-buttons div {\n",
              "      margin-bottom: 4px;\n",
              "    }\n",
              "\n",
              "    [theme=dark] .colab-df-convert {\n",
              "      background-color: #3B4455;\n",
              "      fill: #D2E3FC;\n",
              "    }\n",
              "\n",
              "    [theme=dark] .colab-df-convert:hover {\n",
              "      background-color: #434B5C;\n",
              "      box-shadow: 0px 1px 3px 1px rgba(0, 0, 0, 0.15);\n",
              "      filter: drop-shadow(0px 1px 2px rgba(0, 0, 0, 0.3));\n",
              "      fill: #FFFFFF;\n",
              "    }\n",
              "  </style>\n",
              "\n",
              "    <script>\n",
              "      const buttonEl =\n",
              "        document.querySelector('#df-22a3a91a-c8ba-4e88-98c2-8f177248c444 button.colab-df-convert');\n",
              "      buttonEl.style.display =\n",
              "        google.colab.kernel.accessAllowed ? 'block' : 'none';\n",
              "\n",
              "      async function convertToInteractive(key) {\n",
              "        const element = document.querySelector('#df-22a3a91a-c8ba-4e88-98c2-8f177248c444');\n",
              "        const dataTable =\n",
              "          await google.colab.kernel.invokeFunction('convertToInteractive',\n",
              "                                                    [key], {});\n",
              "        if (!dataTable) return;\n",
              "\n",
              "        const docLinkHtml = 'Like what you see? Visit the ' +\n",
              "          '<a target=\"_blank\" href=https://colab.research.google.com/notebooks/data_table.ipynb>data table notebook</a>'\n",
              "          + ' to learn more about interactive tables.';\n",
              "        element.innerHTML = '';\n",
              "        dataTable['output_type'] = 'display_data';\n",
              "        await google.colab.output.renderOutput(dataTable, element);\n",
              "        const docLink = document.createElement('div');\n",
              "        docLink.innerHTML = docLinkHtml;\n",
              "        element.appendChild(docLink);\n",
              "      }\n",
              "    </script>\n",
              "  </div>\n",
              "\n",
              "\n",
              "<div id=\"df-54f840c9-2718-4098-9f92-eb54a9e73032\">\n",
              "  <button class=\"colab-df-quickchart\" onclick=\"quickchart('df-54f840c9-2718-4098-9f92-eb54a9e73032')\"\n",
              "            title=\"Suggest charts\"\n",
              "            style=\"display:none;\">\n",
              "\n",
              "<svg xmlns=\"http://www.w3.org/2000/svg\" height=\"24px\"viewBox=\"0 0 24 24\"\n",
              "     width=\"24px\">\n",
              "    <g>\n",
              "        <path d=\"M19 3H5c-1.1 0-2 .9-2 2v14c0 1.1.9 2 2 2h14c1.1 0 2-.9 2-2V5c0-1.1-.9-2-2-2zM9 17H7v-7h2v7zm4 0h-2V7h2v10zm4 0h-2v-4h2v4z\"/>\n",
              "    </g>\n",
              "</svg>\n",
              "  </button>\n",
              "\n",
              "<style>\n",
              "  .colab-df-quickchart {\n",
              "      --bg-color: #E8F0FE;\n",
              "      --fill-color: #1967D2;\n",
              "      --hover-bg-color: #E2EBFA;\n",
              "      --hover-fill-color: #174EA6;\n",
              "      --disabled-fill-color: #AAA;\n",
              "      --disabled-bg-color: #DDD;\n",
              "  }\n",
              "\n",
              "  [theme=dark] .colab-df-quickchart {\n",
              "      --bg-color: #3B4455;\n",
              "      --fill-color: #D2E3FC;\n",
              "      --hover-bg-color: #434B5C;\n",
              "      --hover-fill-color: #FFFFFF;\n",
              "      --disabled-bg-color: #3B4455;\n",
              "      --disabled-fill-color: #666;\n",
              "  }\n",
              "\n",
              "  .colab-df-quickchart {\n",
              "    background-color: var(--bg-color);\n",
              "    border: none;\n",
              "    border-radius: 50%;\n",
              "    cursor: pointer;\n",
              "    display: none;\n",
              "    fill: var(--fill-color);\n",
              "    height: 32px;\n",
              "    padding: 0;\n",
              "    width: 32px;\n",
              "  }\n",
              "\n",
              "  .colab-df-quickchart:hover {\n",
              "    background-color: var(--hover-bg-color);\n",
              "    box-shadow: 0 1px 2px rgba(60, 64, 67, 0.3), 0 1px 3px 1px rgba(60, 64, 67, 0.15);\n",
              "    fill: var(--button-hover-fill-color);\n",
              "  }\n",
              "\n",
              "  .colab-df-quickchart-complete:disabled,\n",
              "  .colab-df-quickchart-complete:disabled:hover {\n",
              "    background-color: var(--disabled-bg-color);\n",
              "    fill: var(--disabled-fill-color);\n",
              "    box-shadow: none;\n",
              "  }\n",
              "\n",
              "  .colab-df-spinner {\n",
              "    border: 2px solid var(--fill-color);\n",
              "    border-color: transparent;\n",
              "    border-bottom-color: var(--fill-color);\n",
              "    animation:\n",
              "      spin 1s steps(1) infinite;\n",
              "  }\n",
              "\n",
              "  @keyframes spin {\n",
              "    0% {\n",
              "      border-color: transparent;\n",
              "      border-bottom-color: var(--fill-color);\n",
              "      border-left-color: var(--fill-color);\n",
              "    }\n",
              "    20% {\n",
              "      border-color: transparent;\n",
              "      border-left-color: var(--fill-color);\n",
              "      border-top-color: var(--fill-color);\n",
              "    }\n",
              "    30% {\n",
              "      border-color: transparent;\n",
              "      border-left-color: var(--fill-color);\n",
              "      border-top-color: var(--fill-color);\n",
              "      border-right-color: var(--fill-color);\n",
              "    }\n",
              "    40% {\n",
              "      border-color: transparent;\n",
              "      border-right-color: var(--fill-color);\n",
              "      border-top-color: var(--fill-color);\n",
              "    }\n",
              "    60% {\n",
              "      border-color: transparent;\n",
              "      border-right-color: var(--fill-color);\n",
              "    }\n",
              "    80% {\n",
              "      border-color: transparent;\n",
              "      border-right-color: var(--fill-color);\n",
              "      border-bottom-color: var(--fill-color);\n",
              "    }\n",
              "    90% {\n",
              "      border-color: transparent;\n",
              "      border-bottom-color: var(--fill-color);\n",
              "    }\n",
              "  }\n",
              "</style>\n",
              "\n",
              "  <script>\n",
              "    async function quickchart(key) {\n",
              "      const quickchartButtonEl =\n",
              "        document.querySelector('#' + key + ' button');\n",
              "      quickchartButtonEl.disabled = true;  // To prevent multiple clicks.\n",
              "      quickchartButtonEl.classList.add('colab-df-spinner');\n",
              "      try {\n",
              "        const charts = await google.colab.kernel.invokeFunction(\n",
              "            'suggestCharts', [key], {});\n",
              "      } catch (error) {\n",
              "        console.error('Error during call to suggestCharts:', error);\n",
              "      }\n",
              "      quickchartButtonEl.classList.remove('colab-df-spinner');\n",
              "      quickchartButtonEl.classList.add('colab-df-quickchart-complete');\n",
              "    }\n",
              "    (() => {\n",
              "      let quickchartButtonEl =\n",
              "        document.querySelector('#df-54f840c9-2718-4098-9f92-eb54a9e73032 button');\n",
              "      quickchartButtonEl.style.display =\n",
              "        google.colab.kernel.accessAllowed ? 'block' : 'none';\n",
              "    })();\n",
              "  </script>\n",
              "</div>\n",
              "    </div>\n",
              "  </div>\n"
            ]
          },
          "metadata": {},
          "execution_count": 23
        }
      ]
    },
    {
      "cell_type": "markdown",
      "source": [
        "# Normalization of input features"
      ],
      "metadata": {
        "id": "DQ8BOsQ8VhWe"
      }
    },
    {
      "cell_type": "code",
      "source": [
        "scaler = StandardScaler()\n",
        "X_normalized = scaler.fit_transform(X)"
      ],
      "metadata": {
        "id": "pMSuNKA4lzXS"
      },
      "execution_count": 24,
      "outputs": []
    },
    {
      "cell_type": "code",
      "source": [
        "X_normalized"
      ],
      "metadata": {
        "id": "cBsRCyIDmvp5",
        "outputId": "3ea1701f-d025-4659-d263-b980cc4d1dee",
        "colab": {
          "base_uri": "https://localhost:8080/"
        }
      },
      "execution_count": 25,
      "outputs": [
        {
          "output_type": "execute_result",
          "data": {
            "text/plain": [
              "array([[ 0.63994726,  0.84832379,  0.14964075, ...,  0.20401277,\n",
              "         0.46849198,  1.4259954 ],\n",
              "       [-0.84488505, -1.12339636, -0.16054575, ..., -0.68442195,\n",
              "        -0.36506078, -0.19067191],\n",
              "       [ 1.23388019,  1.94372388, -0.26394125, ..., -1.10325546,\n",
              "         0.60439732, -0.10558415],\n",
              "       ...,\n",
              "       [ 0.3429808 ,  0.00330087,  0.14964075, ..., -0.73518964,\n",
              "        -0.68519336, -0.27575966],\n",
              "       [-0.84488505,  0.1597866 , -0.47073225, ..., -0.24020459,\n",
              "        -0.37110101,  1.17073215],\n",
              "       [-0.84488505, -0.8730192 ,  0.04624525, ..., -0.20212881,\n",
              "        -0.47378505, -0.87137393]])"
            ]
          },
          "metadata": {},
          "execution_count": 25
        }
      ]
    },
    {
      "cell_type": "markdown",
      "source": [
        "# Define, compile and fit the keras model on the dataset\n"
      ],
      "metadata": {
        "id": "Ke1GHcpeV8K9"
      }
    },
    {
      "cell_type": "code",
      "source": [
        "model = Sequential()\n",
        "model.add(Dense(8, input_shape=(8,), activation='relu'))\n",
        "model.add(Dense(6, activation='relu'))\n",
        "model.add(Dense(1, activation='sigmoid'))\n",
        "\n",
        "model.compile(loss='binary_crossentropy', optimizer='adam', metrics=['accuracy'])\n",
        "\n",
        "model.fit(X, y, epochs=100, batch_size=10)"
      ],
      "metadata": {
        "id": "7CpPkgKTtexM",
        "colab": {
          "base_uri": "https://localhost:8080/"
        },
        "outputId": "a1645e74-c940-42ee-96da-aeb03a7a0011"
      },
      "execution_count": 26,
      "outputs": [
        {
          "output_type": "stream",
          "name": "stdout",
          "text": [
            "Epoch 1/100\n",
            "77/77 [==============================] - 1s 2ms/step - loss: 15.6297 - accuracy: 0.3555\n",
            "Epoch 2/100\n",
            "77/77 [==============================] - 0s 2ms/step - loss: 2.4175 - accuracy: 0.5599\n",
            "Epoch 3/100\n",
            "77/77 [==============================] - 0s 2ms/step - loss: 1.1455 - accuracy: 0.6406\n",
            "Epoch 4/100\n",
            "77/77 [==============================] - 0s 2ms/step - loss: 0.8636 - accuracy: 0.6615\n",
            "Epoch 5/100\n",
            "77/77 [==============================] - 0s 2ms/step - loss: 0.7498 - accuracy: 0.6706\n",
            "Epoch 6/100\n",
            "77/77 [==============================] - 0s 2ms/step - loss: 0.7111 - accuracy: 0.6771\n",
            "Epoch 7/100\n",
            "77/77 [==============================] - 0s 2ms/step - loss: 0.6898 - accuracy: 0.6706\n",
            "Epoch 8/100\n",
            "77/77 [==============================] - 0s 2ms/step - loss: 0.6719 - accuracy: 0.6680\n",
            "Epoch 9/100\n",
            "77/77 [==============================] - 0s 2ms/step - loss: 0.6584 - accuracy: 0.6719\n",
            "Epoch 10/100\n",
            "77/77 [==============================] - 0s 2ms/step - loss: 0.6519 - accuracy: 0.6693\n",
            "Epoch 11/100\n",
            "77/77 [==============================] - 0s 2ms/step - loss: 0.6460 - accuracy: 0.6641\n",
            "Epoch 12/100\n",
            "77/77 [==============================] - 0s 2ms/step - loss: 0.6425 - accuracy: 0.6654\n",
            "Epoch 13/100\n",
            "77/77 [==============================] - 0s 2ms/step - loss: 0.6386 - accuracy: 0.6680\n",
            "Epoch 14/100\n",
            "77/77 [==============================] - 0s 2ms/step - loss: 0.6355 - accuracy: 0.6693\n",
            "Epoch 15/100\n",
            "77/77 [==============================] - 0s 2ms/step - loss: 0.6359 - accuracy: 0.6641\n",
            "Epoch 16/100\n",
            "77/77 [==============================] - 0s 2ms/step - loss: 0.6331 - accuracy: 0.6732\n",
            "Epoch 17/100\n",
            "77/77 [==============================] - 0s 2ms/step - loss: 0.6307 - accuracy: 0.6732\n",
            "Epoch 18/100\n",
            "77/77 [==============================] - 0s 2ms/step - loss: 0.6277 - accuracy: 0.6784\n",
            "Epoch 19/100\n",
            "77/77 [==============================] - 0s 2ms/step - loss: 0.6262 - accuracy: 0.6732\n",
            "Epoch 20/100\n",
            "77/77 [==============================] - 0s 2ms/step - loss: 0.6248 - accuracy: 0.6732\n",
            "Epoch 21/100\n",
            "77/77 [==============================] - 0s 3ms/step - loss: 0.6231 - accuracy: 0.6771\n",
            "Epoch 22/100\n",
            "77/77 [==============================] - 0s 2ms/step - loss: 0.6204 - accuracy: 0.6732\n",
            "Epoch 23/100\n",
            "77/77 [==============================] - 0s 2ms/step - loss: 0.6167 - accuracy: 0.6849\n",
            "Epoch 24/100\n",
            "77/77 [==============================] - 0s 2ms/step - loss: 0.6123 - accuracy: 0.6823\n",
            "Epoch 25/100\n",
            "77/77 [==============================] - 0s 2ms/step - loss: 0.6133 - accuracy: 0.6901\n",
            "Epoch 26/100\n",
            "77/77 [==============================] - 0s 2ms/step - loss: 0.6086 - accuracy: 0.6849\n",
            "Epoch 27/100\n",
            "77/77 [==============================] - 0s 2ms/step - loss: 0.6063 - accuracy: 0.7044\n",
            "Epoch 28/100\n",
            "77/77 [==============================] - 0s 2ms/step - loss: 0.6027 - accuracy: 0.7083\n",
            "Epoch 29/100\n",
            "77/77 [==============================] - 0s 2ms/step - loss: 0.6032 - accuracy: 0.7005\n",
            "Epoch 30/100\n",
            "77/77 [==============================] - 0s 2ms/step - loss: 0.5978 - accuracy: 0.7161\n",
            "Epoch 31/100\n",
            "77/77 [==============================] - 0s 2ms/step - loss: 0.6056 - accuracy: 0.6758\n",
            "Epoch 32/100\n",
            "77/77 [==============================] - 0s 2ms/step - loss: 0.5998 - accuracy: 0.7122\n",
            "Epoch 33/100\n",
            "77/77 [==============================] - 0s 2ms/step - loss: 0.5969 - accuracy: 0.7005\n",
            "Epoch 34/100\n",
            "77/77 [==============================] - 0s 2ms/step - loss: 0.5958 - accuracy: 0.7018\n",
            "Epoch 35/100\n",
            "77/77 [==============================] - 0s 2ms/step - loss: 0.5951 - accuracy: 0.7188\n",
            "Epoch 36/100\n",
            "77/77 [==============================] - 0s 2ms/step - loss: 0.5975 - accuracy: 0.7083\n",
            "Epoch 37/100\n",
            "77/77 [==============================] - 0s 2ms/step - loss: 0.5991 - accuracy: 0.7031\n",
            "Epoch 38/100\n",
            "77/77 [==============================] - 0s 2ms/step - loss: 0.5957 - accuracy: 0.7188\n",
            "Epoch 39/100\n",
            "77/77 [==============================] - 0s 2ms/step - loss: 0.5919 - accuracy: 0.7214\n",
            "Epoch 40/100\n",
            "77/77 [==============================] - 0s 2ms/step - loss: 0.5926 - accuracy: 0.7214\n",
            "Epoch 41/100\n",
            "77/77 [==============================] - 0s 2ms/step - loss: 0.5906 - accuracy: 0.7122\n",
            "Epoch 42/100\n",
            "77/77 [==============================] - 0s 2ms/step - loss: 0.5901 - accuracy: 0.7253\n",
            "Epoch 43/100\n",
            "77/77 [==============================] - 0s 2ms/step - loss: 0.5884 - accuracy: 0.7188\n",
            "Epoch 44/100\n",
            "77/77 [==============================] - 0s 2ms/step - loss: 0.5885 - accuracy: 0.7070\n",
            "Epoch 45/100\n",
            "77/77 [==============================] - 0s 2ms/step - loss: 0.5872 - accuracy: 0.7148\n",
            "Epoch 46/100\n",
            "77/77 [==============================] - 0s 3ms/step - loss: 0.5928 - accuracy: 0.7096\n",
            "Epoch 47/100\n",
            "77/77 [==============================] - 0s 3ms/step - loss: 0.5954 - accuracy: 0.7070\n",
            "Epoch 48/100\n",
            "77/77 [==============================] - 0s 3ms/step - loss: 0.5907 - accuracy: 0.7070\n",
            "Epoch 49/100\n",
            "77/77 [==============================] - 0s 3ms/step - loss: 0.5837 - accuracy: 0.7214\n",
            "Epoch 50/100\n",
            "77/77 [==============================] - 0s 3ms/step - loss: 0.5906 - accuracy: 0.7057\n",
            "Epoch 51/100\n",
            "77/77 [==============================] - 0s 3ms/step - loss: 0.5798 - accuracy: 0.7292\n",
            "Epoch 52/100\n",
            "77/77 [==============================] - 0s 3ms/step - loss: 0.5892 - accuracy: 0.7253\n",
            "Epoch 53/100\n",
            "77/77 [==============================] - 0s 3ms/step - loss: 0.5861 - accuracy: 0.7201\n",
            "Epoch 54/100\n",
            "77/77 [==============================] - 0s 3ms/step - loss: 0.5826 - accuracy: 0.7266\n",
            "Epoch 55/100\n",
            "77/77 [==============================] - 0s 3ms/step - loss: 0.5840 - accuracy: 0.7109\n",
            "Epoch 56/100\n",
            "77/77 [==============================] - 0s 3ms/step - loss: 0.5870 - accuracy: 0.7122\n",
            "Epoch 57/100\n",
            "77/77 [==============================] - 0s 2ms/step - loss: 0.5803 - accuracy: 0.7266\n",
            "Epoch 58/100\n",
            "77/77 [==============================] - 0s 3ms/step - loss: 0.5766 - accuracy: 0.7227\n",
            "Epoch 59/100\n",
            "77/77 [==============================] - 0s 3ms/step - loss: 0.5845 - accuracy: 0.7148\n",
            "Epoch 60/100\n",
            "77/77 [==============================] - 0s 3ms/step - loss: 0.5744 - accuracy: 0.7240\n",
            "Epoch 61/100\n",
            "77/77 [==============================] - 0s 3ms/step - loss: 0.5716 - accuracy: 0.7305\n",
            "Epoch 62/100\n",
            "77/77 [==============================] - 0s 3ms/step - loss: 0.5762 - accuracy: 0.7279\n",
            "Epoch 63/100\n",
            "77/77 [==============================] - 0s 3ms/step - loss: 0.5735 - accuracy: 0.7253\n",
            "Epoch 64/100\n",
            "77/77 [==============================] - 0s 3ms/step - loss: 0.5676 - accuracy: 0.7305\n",
            "Epoch 65/100\n",
            "77/77 [==============================] - 0s 3ms/step - loss: 0.5676 - accuracy: 0.7370\n",
            "Epoch 66/100\n",
            "77/77 [==============================] - 0s 4ms/step - loss: 0.5726 - accuracy: 0.7279\n",
            "Epoch 67/100\n",
            "77/77 [==============================] - 0s 3ms/step - loss: 0.5706 - accuracy: 0.7240\n",
            "Epoch 68/100\n",
            "77/77 [==============================] - 0s 3ms/step - loss: 0.5627 - accuracy: 0.7357\n",
            "Epoch 69/100\n",
            "77/77 [==============================] - 0s 3ms/step - loss: 0.5652 - accuracy: 0.7331\n",
            "Epoch 70/100\n",
            "77/77 [==============================] - 0s 2ms/step - loss: 0.5765 - accuracy: 0.7227\n",
            "Epoch 71/100\n",
            "77/77 [==============================] - 0s 2ms/step - loss: 0.5651 - accuracy: 0.7331\n",
            "Epoch 72/100\n",
            "77/77 [==============================] - 0s 2ms/step - loss: 0.5713 - accuracy: 0.7188\n",
            "Epoch 73/100\n",
            "77/77 [==============================] - 0s 2ms/step - loss: 0.5633 - accuracy: 0.7435\n",
            "Epoch 74/100\n",
            "77/77 [==============================] - 0s 2ms/step - loss: 0.5608 - accuracy: 0.7357\n",
            "Epoch 75/100\n",
            "77/77 [==============================] - 0s 2ms/step - loss: 0.5730 - accuracy: 0.7266\n",
            "Epoch 76/100\n",
            "77/77 [==============================] - 0s 2ms/step - loss: 0.5658 - accuracy: 0.7292\n",
            "Epoch 77/100\n",
            "77/77 [==============================] - 0s 2ms/step - loss: 0.5680 - accuracy: 0.7318\n",
            "Epoch 78/100\n",
            "77/77 [==============================] - 0s 2ms/step - loss: 0.5686 - accuracy: 0.7357\n",
            "Epoch 79/100\n",
            "77/77 [==============================] - 0s 2ms/step - loss: 0.5664 - accuracy: 0.7292\n",
            "Epoch 80/100\n",
            "77/77 [==============================] - 0s 2ms/step - loss: 0.5649 - accuracy: 0.7318\n",
            "Epoch 81/100\n",
            "77/77 [==============================] - 0s 2ms/step - loss: 0.5627 - accuracy: 0.7318\n",
            "Epoch 82/100\n",
            "77/77 [==============================] - 0s 2ms/step - loss: 0.5638 - accuracy: 0.7318\n",
            "Epoch 83/100\n",
            "77/77 [==============================] - 0s 2ms/step - loss: 0.5610 - accuracy: 0.7292\n",
            "Epoch 84/100\n",
            "77/77 [==============================] - 0s 2ms/step - loss: 0.5574 - accuracy: 0.7383\n",
            "Epoch 85/100\n",
            "77/77 [==============================] - 0s 2ms/step - loss: 0.5572 - accuracy: 0.7435\n",
            "Epoch 86/100\n",
            "77/77 [==============================] - 0s 2ms/step - loss: 0.5716 - accuracy: 0.7292\n",
            "Epoch 87/100\n",
            "77/77 [==============================] - 0s 2ms/step - loss: 0.5640 - accuracy: 0.7266\n",
            "Epoch 88/100\n",
            "77/77 [==============================] - 0s 2ms/step - loss: 0.5625 - accuracy: 0.7344\n",
            "Epoch 89/100\n",
            "77/77 [==============================] - 0s 2ms/step - loss: 0.5584 - accuracy: 0.7318\n",
            "Epoch 90/100\n",
            "77/77 [==============================] - 0s 2ms/step - loss: 0.5606 - accuracy: 0.7305\n",
            "Epoch 91/100\n",
            "77/77 [==============================] - 0s 2ms/step - loss: 0.5591 - accuracy: 0.7318\n",
            "Epoch 92/100\n",
            "77/77 [==============================] - 0s 2ms/step - loss: 0.5576 - accuracy: 0.7370\n",
            "Epoch 93/100\n",
            "77/77 [==============================] - 0s 2ms/step - loss: 0.5611 - accuracy: 0.7344\n",
            "Epoch 94/100\n",
            "77/77 [==============================] - 0s 2ms/step - loss: 0.5612 - accuracy: 0.7396\n",
            "Epoch 95/100\n",
            "77/77 [==============================] - 0s 2ms/step - loss: 0.5593 - accuracy: 0.7318\n",
            "Epoch 96/100\n",
            "77/77 [==============================] - 0s 2ms/step - loss: 0.5605 - accuracy: 0.7370\n",
            "Epoch 97/100\n",
            "77/77 [==============================] - 0s 2ms/step - loss: 0.5556 - accuracy: 0.7357\n",
            "Epoch 98/100\n",
            "77/77 [==============================] - 0s 2ms/step - loss: 0.5610 - accuracy: 0.7383\n",
            "Epoch 99/100\n",
            "77/77 [==============================] - 0s 2ms/step - loss: 0.5595 - accuracy: 0.7383\n",
            "Epoch 100/100\n",
            "77/77 [==============================] - 0s 2ms/step - loss: 0.5571 - accuracy: 0.7357\n"
          ]
        },
        {
          "output_type": "execute_result",
          "data": {
            "text/plain": [
              "<keras.src.callbacks.History at 0x7f35f37b4460>"
            ]
          },
          "metadata": {},
          "execution_count": 26
        }
      ]
    },
    {
      "cell_type": "markdown",
      "source": [
        "# Evaluate the keras model"
      ],
      "metadata": {
        "id": "aMCmAwz3WJjE"
      }
    },
    {
      "cell_type": "code",
      "source": [
        "_, accuracy = model.evaluate(X, y)\n",
        "print('Accuracy: %.2f' % (accuracy*100))"
      ],
      "metadata": {
        "colab": {
          "base_uri": "https://localhost:8080/"
        },
        "id": "K3XGb-QwtrEf",
        "outputId": "f6d9f098-f0f1-49c7-e679-e035a35978b5"
      },
      "execution_count": 27,
      "outputs": [
        {
          "output_type": "stream",
          "name": "stdout",
          "text": [
            "24/24 [==============================] - 0s 2ms/step - loss: 0.5501 - accuracy: 0.7422\n",
            "Accuracy: 74.22\n"
          ]
        }
      ]
    },
    {
      "cell_type": "code",
      "source": [
        "# fit the keras model on the dataset for normalized data\n",
        "model.fit(X_normalized, y, epochs=100, batch_size=10)"
      ],
      "metadata": {
        "id": "B2tQAza5nN5_",
        "outputId": "32e24b0c-7b87-4f65-8433-491205f3f349",
        "colab": {
          "base_uri": "https://localhost:8080/"
        }
      },
      "execution_count": 28,
      "outputs": [
        {
          "output_type": "stream",
          "name": "stdout",
          "text": [
            "Epoch 1/100\n",
            "77/77 [==============================] - 1s 2ms/step - loss: 0.6932 - accuracy: 0.6510\n",
            "Epoch 2/100\n",
            "77/77 [==============================] - 0s 2ms/step - loss: 0.6752 - accuracy: 0.6510\n",
            "Epoch 3/100\n",
            "77/77 [==============================] - 0s 2ms/step - loss: 0.6504 - accuracy: 0.6549\n",
            "Epoch 4/100\n",
            "77/77 [==============================] - 0s 2ms/step - loss: 0.6122 - accuracy: 0.6784\n",
            "Epoch 5/100\n",
            "77/77 [==============================] - 0s 2ms/step - loss: 0.5885 - accuracy: 0.7083\n",
            "Epoch 6/100\n",
            "77/77 [==============================] - 0s 2ms/step - loss: 0.5753 - accuracy: 0.7174\n",
            "Epoch 7/100\n",
            "77/77 [==============================] - 0s 2ms/step - loss: 0.5662 - accuracy: 0.7240\n",
            "Epoch 8/100\n",
            "77/77 [==============================] - 0s 2ms/step - loss: 0.5586 - accuracy: 0.7292\n",
            "Epoch 9/100\n",
            "77/77 [==============================] - 0s 2ms/step - loss: 0.5530 - accuracy: 0.7279\n",
            "Epoch 10/100\n",
            "77/77 [==============================] - 0s 2ms/step - loss: 0.5484 - accuracy: 0.7409\n",
            "Epoch 11/100\n",
            "77/77 [==============================] - 0s 2ms/step - loss: 0.5445 - accuracy: 0.7370\n",
            "Epoch 12/100\n",
            "77/77 [==============================] - 0s 2ms/step - loss: 0.5404 - accuracy: 0.7487\n",
            "Epoch 13/100\n",
            "77/77 [==============================] - 0s 2ms/step - loss: 0.5368 - accuracy: 0.7461\n",
            "Epoch 14/100\n",
            "77/77 [==============================] - 1s 7ms/step - loss: 0.5335 - accuracy: 0.7500\n",
            "Epoch 15/100\n",
            "77/77 [==============================] - 1s 9ms/step - loss: 0.5295 - accuracy: 0.7526\n",
            "Epoch 16/100\n",
            "77/77 [==============================] - 1s 12ms/step - loss: 0.5263 - accuracy: 0.7513\n",
            "Epoch 17/100\n",
            "77/77 [==============================] - 1s 8ms/step - loss: 0.5228 - accuracy: 0.7565\n",
            "Epoch 18/100\n",
            "77/77 [==============================] - 1s 7ms/step - loss: 0.5197 - accuracy: 0.7539\n",
            "Epoch 19/100\n",
            "77/77 [==============================] - 0s 6ms/step - loss: 0.5161 - accuracy: 0.7591\n",
            "Epoch 20/100\n",
            "77/77 [==============================] - 1s 11ms/step - loss: 0.5131 - accuracy: 0.7682\n",
            "Epoch 21/100\n",
            "77/77 [==============================] - 1s 8ms/step - loss: 0.5101 - accuracy: 0.7708\n",
            "Epoch 22/100\n",
            "77/77 [==============================] - 0s 6ms/step - loss: 0.5077 - accuracy: 0.7708\n",
            "Epoch 23/100\n",
            "77/77 [==============================] - 1s 8ms/step - loss: 0.5050 - accuracy: 0.7734\n",
            "Epoch 24/100\n",
            "77/77 [==============================] - 0s 6ms/step - loss: 0.5018 - accuracy: 0.7786\n",
            "Epoch 25/100\n",
            "77/77 [==============================] - 1s 8ms/step - loss: 0.4994 - accuracy: 0.7773\n",
            "Epoch 26/100\n",
            "77/77 [==============================] - 1s 7ms/step - loss: 0.4967 - accuracy: 0.7760\n",
            "Epoch 27/100\n",
            "77/77 [==============================] - 0s 6ms/step - loss: 0.4948 - accuracy: 0.7734\n",
            "Epoch 28/100\n",
            "77/77 [==============================] - 0s 5ms/step - loss: 0.4927 - accuracy: 0.7786\n",
            "Epoch 29/100\n",
            "77/77 [==============================] - 0s 4ms/step - loss: 0.4902 - accuracy: 0.7773\n",
            "Epoch 30/100\n",
            "77/77 [==============================] - 0s 4ms/step - loss: 0.4886 - accuracy: 0.7760\n",
            "Epoch 31/100\n",
            "77/77 [==============================] - 0s 6ms/step - loss: 0.4869 - accuracy: 0.7786\n",
            "Epoch 32/100\n",
            "77/77 [==============================] - 0s 4ms/step - loss: 0.4857 - accuracy: 0.7852\n",
            "Epoch 33/100\n",
            "77/77 [==============================] - 0s 2ms/step - loss: 0.4828 - accuracy: 0.7799\n",
            "Epoch 34/100\n",
            "77/77 [==============================] - 0s 2ms/step - loss: 0.4819 - accuracy: 0.7773\n",
            "Epoch 35/100\n",
            "77/77 [==============================] - 0s 2ms/step - loss: 0.4796 - accuracy: 0.7773\n",
            "Epoch 36/100\n",
            "77/77 [==============================] - 0s 2ms/step - loss: 0.4787 - accuracy: 0.7799\n",
            "Epoch 37/100\n",
            "77/77 [==============================] - 0s 2ms/step - loss: 0.4771 - accuracy: 0.7812\n",
            "Epoch 38/100\n",
            "77/77 [==============================] - 0s 2ms/step - loss: 0.4760 - accuracy: 0.7786\n",
            "Epoch 39/100\n",
            "77/77 [==============================] - 0s 2ms/step - loss: 0.4741 - accuracy: 0.7839\n",
            "Epoch 40/100\n",
            "77/77 [==============================] - 0s 2ms/step - loss: 0.4730 - accuracy: 0.7786\n",
            "Epoch 41/100\n",
            "77/77 [==============================] - 0s 2ms/step - loss: 0.4718 - accuracy: 0.7826\n",
            "Epoch 42/100\n",
            "77/77 [==============================] - 0s 2ms/step - loss: 0.4708 - accuracy: 0.7839\n",
            "Epoch 43/100\n",
            "77/77 [==============================] - 0s 2ms/step - loss: 0.4701 - accuracy: 0.7865\n",
            "Epoch 44/100\n",
            "77/77 [==============================] - 0s 2ms/step - loss: 0.4687 - accuracy: 0.7891\n",
            "Epoch 45/100\n",
            "77/77 [==============================] - 0s 2ms/step - loss: 0.4676 - accuracy: 0.7852\n",
            "Epoch 46/100\n",
            "77/77 [==============================] - 0s 2ms/step - loss: 0.4668 - accuracy: 0.7865\n",
            "Epoch 47/100\n",
            "77/77 [==============================] - 0s 2ms/step - loss: 0.4658 - accuracy: 0.7878\n",
            "Epoch 48/100\n",
            "77/77 [==============================] - 0s 2ms/step - loss: 0.4647 - accuracy: 0.7878\n",
            "Epoch 49/100\n",
            "77/77 [==============================] - 0s 2ms/step - loss: 0.4648 - accuracy: 0.7891\n",
            "Epoch 50/100\n",
            "77/77 [==============================] - 0s 2ms/step - loss: 0.4627 - accuracy: 0.7904\n",
            "Epoch 51/100\n",
            "77/77 [==============================] - 0s 3ms/step - loss: 0.4629 - accuracy: 0.7917\n",
            "Epoch 52/100\n",
            "77/77 [==============================] - 0s 3ms/step - loss: 0.4624 - accuracy: 0.7943\n",
            "Epoch 53/100\n",
            "77/77 [==============================] - 0s 3ms/step - loss: 0.4613 - accuracy: 0.7865\n",
            "Epoch 54/100\n",
            "77/77 [==============================] - 0s 3ms/step - loss: 0.4604 - accuracy: 0.7917\n",
            "Epoch 55/100\n",
            "77/77 [==============================] - 0s 3ms/step - loss: 0.4599 - accuracy: 0.7930\n",
            "Epoch 56/100\n",
            "77/77 [==============================] - 0s 3ms/step - loss: 0.4587 - accuracy: 0.7969\n",
            "Epoch 57/100\n",
            "77/77 [==============================] - 0s 3ms/step - loss: 0.4580 - accuracy: 0.7891\n",
            "Epoch 58/100\n",
            "77/77 [==============================] - 0s 3ms/step - loss: 0.4574 - accuracy: 0.7956\n",
            "Epoch 59/100\n",
            "77/77 [==============================] - 0s 3ms/step - loss: 0.4568 - accuracy: 0.7943\n",
            "Epoch 60/100\n",
            "77/77 [==============================] - 0s 3ms/step - loss: 0.4559 - accuracy: 0.7982\n",
            "Epoch 61/100\n",
            "77/77 [==============================] - 0s 3ms/step - loss: 0.4555 - accuracy: 0.7956\n",
            "Epoch 62/100\n",
            "77/77 [==============================] - 0s 3ms/step - loss: 0.4548 - accuracy: 0.7943\n",
            "Epoch 63/100\n",
            "77/77 [==============================] - 0s 3ms/step - loss: 0.4540 - accuracy: 0.7943\n",
            "Epoch 64/100\n",
            "77/77 [==============================] - 0s 3ms/step - loss: 0.4534 - accuracy: 0.7956\n",
            "Epoch 65/100\n",
            "77/77 [==============================] - 0s 3ms/step - loss: 0.4530 - accuracy: 0.7917\n",
            "Epoch 66/100\n",
            "77/77 [==============================] - 0s 2ms/step - loss: 0.4526 - accuracy: 0.7891\n",
            "Epoch 67/100\n",
            "77/77 [==============================] - 0s 3ms/step - loss: 0.4539 - accuracy: 0.7904\n",
            "Epoch 68/100\n",
            "77/77 [==============================] - 0s 3ms/step - loss: 0.4512 - accuracy: 0.7865\n",
            "Epoch 69/100\n",
            "77/77 [==============================] - 0s 3ms/step - loss: 0.4505 - accuracy: 0.7904\n",
            "Epoch 70/100\n",
            "77/77 [==============================] - 0s 3ms/step - loss: 0.4502 - accuracy: 0.7904\n",
            "Epoch 71/100\n",
            "77/77 [==============================] - 0s 3ms/step - loss: 0.4496 - accuracy: 0.7956\n",
            "Epoch 72/100\n",
            "77/77 [==============================] - 0s 4ms/step - loss: 0.4489 - accuracy: 0.7930\n",
            "Epoch 73/100\n",
            "77/77 [==============================] - 0s 4ms/step - loss: 0.4484 - accuracy: 0.7943\n",
            "Epoch 74/100\n",
            "77/77 [==============================] - 0s 3ms/step - loss: 0.4481 - accuracy: 0.7930\n",
            "Epoch 75/100\n",
            "77/77 [==============================] - 0s 3ms/step - loss: 0.4471 - accuracy: 0.7956\n",
            "Epoch 76/100\n",
            "77/77 [==============================] - 0s 4ms/step - loss: 0.4469 - accuracy: 0.7904\n",
            "Epoch 77/100\n",
            "77/77 [==============================] - 0s 4ms/step - loss: 0.4465 - accuracy: 0.7904\n",
            "Epoch 78/100\n",
            "77/77 [==============================] - 0s 3ms/step - loss: 0.4460 - accuracy: 0.7956\n",
            "Epoch 79/100\n",
            "77/77 [==============================] - 0s 3ms/step - loss: 0.4456 - accuracy: 0.7930\n",
            "Epoch 80/100\n",
            "77/77 [==============================] - 0s 3ms/step - loss: 0.4450 - accuracy: 0.7930\n",
            "Epoch 81/100\n",
            "77/77 [==============================] - 0s 2ms/step - loss: 0.4442 - accuracy: 0.7995\n",
            "Epoch 82/100\n",
            "77/77 [==============================] - 0s 3ms/step - loss: 0.4441 - accuracy: 0.8008\n",
            "Epoch 83/100\n",
            "77/77 [==============================] - 0s 3ms/step - loss: 0.4434 - accuracy: 0.7917\n",
            "Epoch 84/100\n",
            "77/77 [==============================] - 0s 3ms/step - loss: 0.4428 - accuracy: 0.7943\n",
            "Epoch 85/100\n",
            "77/77 [==============================] - 0s 3ms/step - loss: 0.4424 - accuracy: 0.7969\n",
            "Epoch 86/100\n",
            "77/77 [==============================] - 0s 3ms/step - loss: 0.4428 - accuracy: 0.7995\n",
            "Epoch 87/100\n",
            "77/77 [==============================] - 0s 3ms/step - loss: 0.4414 - accuracy: 0.7982\n",
            "Epoch 88/100\n",
            "77/77 [==============================] - 0s 2ms/step - loss: 0.4412 - accuracy: 0.7956\n",
            "Epoch 89/100\n",
            "77/77 [==============================] - 0s 3ms/step - loss: 0.4409 - accuracy: 0.7904\n",
            "Epoch 90/100\n",
            "77/77 [==============================] - 0s 3ms/step - loss: 0.4403 - accuracy: 0.7917\n",
            "Epoch 91/100\n",
            "77/77 [==============================] - 0s 3ms/step - loss: 0.4410 - accuracy: 0.7982\n",
            "Epoch 92/100\n",
            "77/77 [==============================] - 0s 3ms/step - loss: 0.4401 - accuracy: 0.7956\n",
            "Epoch 93/100\n",
            "77/77 [==============================] - 0s 3ms/step - loss: 0.4393 - accuracy: 0.7956\n",
            "Epoch 94/100\n",
            "77/77 [==============================] - 0s 3ms/step - loss: 0.4389 - accuracy: 0.7943\n",
            "Epoch 95/100\n",
            "77/77 [==============================] - 0s 3ms/step - loss: 0.4384 - accuracy: 0.7995\n",
            "Epoch 96/100\n",
            "77/77 [==============================] - 0s 3ms/step - loss: 0.4382 - accuracy: 0.7969\n",
            "Epoch 97/100\n",
            "77/77 [==============================] - 0s 3ms/step - loss: 0.4374 - accuracy: 0.7969\n",
            "Epoch 98/100\n",
            "77/77 [==============================] - 0s 2ms/step - loss: 0.4375 - accuracy: 0.7982\n",
            "Epoch 99/100\n",
            "77/77 [==============================] - 0s 2ms/step - loss: 0.4375 - accuracy: 0.7995\n",
            "Epoch 100/100\n",
            "77/77 [==============================] - 0s 2ms/step - loss: 0.4367 - accuracy: 0.7995\n"
          ]
        },
        {
          "output_type": "execute_result",
          "data": {
            "text/plain": [
              "<keras.src.callbacks.History at 0x7f35f2c91660>"
            ]
          },
          "metadata": {},
          "execution_count": 28
        }
      ]
    },
    {
      "cell_type": "markdown",
      "source": [
        "# Evaluate the keras model for normalized data"
      ],
      "metadata": {
        "id": "jZAVWh-uXNJR"
      }
    },
    {
      "cell_type": "code",
      "source": [
        "_, accuracy = model.evaluate(X_normalized, y)\n",
        "print('Accuracy: %.2f' % (accuracy*100))"
      ],
      "metadata": {
        "id": "D-3v5QMfnblc",
        "outputId": "c2087bfe-5168-41d2-8369-e00e82891953",
        "colab": {
          "base_uri": "https://localhost:8080/"
        }
      },
      "execution_count": 29,
      "outputs": [
        {
          "output_type": "stream",
          "name": "stdout",
          "text": [
            "24/24 [==============================] - 0s 2ms/step - loss: 0.4343 - accuracy: 0.8021\n",
            "Accuracy: 80.21\n"
          ]
        }
      ]
    },
    {
      "cell_type": "markdown",
      "source": [
        "Accuracy increased for normalized data\n",
        "\n"
      ],
      "metadata": {
        "id": "wSeBHcWvnrh1"
      }
    },
    {
      "cell_type": "code",
      "source": [
        "# make class predictions with the model\n",
        "predictions = (model.predict(X) > 0.5).astype(int)\n",
        "# summarize the first 5 cases\n",
        "for i in range(5):\n",
        "\tprint(' %d (expected %d)' % ( predictions[i], y[i]))\n"
      ],
      "metadata": {
        "id": "QGdzGG7Bt3Zw",
        "colab": {
          "base_uri": "https://localhost:8080/"
        },
        "outputId": "fb3ea59f-0dfb-409d-df3b-0b51d32b106b"
      },
      "execution_count": 30,
      "outputs": [
        {
          "output_type": "stream",
          "name": "stdout",
          "text": [
            "24/24 [==============================] - 0s 1ms/step\n",
            " 1 (expected 1)\n",
            " 1 (expected 0)\n",
            " 1 (expected 1)\n",
            " 1 (expected 0)\n",
            " 1 (expected 1)\n"
          ]
        }
      ]
    },
    {
      "cell_type": "code",
      "source": [
        "# make class predictions with the model\n",
        "predictions = (model.predict(X_normalized) > 0.5).astype(int)\n",
        "# summarize the first 5 cases\n",
        "for i in range(5):\n",
        "\tprint(' %d (expected %d)' % ( predictions[i], y[i]))\n"
      ],
      "metadata": {
        "id": "UYgv-lSSn2Rv",
        "outputId": "11fb6fbd-89bb-4486-979b-9861fc61550d",
        "colab": {
          "base_uri": "https://localhost:8080/"
        }
      },
      "execution_count": 31,
      "outputs": [
        {
          "output_type": "stream",
          "name": "stdout",
          "text": [
            "24/24 [==============================] - 0s 1ms/step\n",
            " 1 (expected 1)\n",
            " 0 (expected 0)\n",
            " 1 (expected 1)\n",
            " 0 (expected 0)\n",
            " 1 (expected 1)\n"
          ]
        }
      ]
    }
  ]
}